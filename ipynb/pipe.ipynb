{
 "cells": [
  {
   "cell_type": "code",
   "execution_count": null,
   "metadata": {},
   "outputs": [],
   "source": [
    "from dotenv import load_dotenv\n",
    "\n",
    "# Load the .env file\n",
    "load_dotenv()"
   ]
  },
  {
   "cell_type": "code",
   "execution_count": null,
   "metadata": {},
   "outputs": [],
   "source": [
    "import torch\n",
    "torch.cuda.is_available(),torch.cuda.get_device_properties(0).name"
   ]
  },
  {
   "cell_type": "code",
   "execution_count": null,
   "metadata": {},
   "outputs": [],
   "source": [
    "from diffusers import StableDiffusionInpaintPipeline,DiffusionPipeline,StableDiffusionXLPipeline"
   ]
  },
  {
   "cell_type": "code",
   "execution_count": null,
   "metadata": {
    "slideshow": {
     "slide_type": "notes"
    }
   },
   "outputs": [],
   "source": [
    "Model = \"SG161222/RealVisXL_V4.0\"\n",
    "InpaintingModel = \"runwayml/stable-diffusion-inpainting\""
   ]
  },
  {
   "cell_type": "code",
   "execution_count": null,
   "metadata": {},
   "outputs": [],
   "source": [
    "# inpaint = StableDiffusionInpaintPipeline.from_pretrained(InpaintingModel, revision=\"fp16\", torch_dtype=torch.float16, safety_checker=None).to(\"cuda\")"
   ]
  },
  {
   "cell_type": "code",
   "execution_count": null,
   "metadata": {},
   "outputs": [],
   "source": [
    "pipe = StableDiffusionXLPipeline.from_pretrained(Model, torch_dtype=torch.float16, safety_checker=None)\n",
    "pipe.to(\"cuda\")"
   ]
  },
  {
   "cell_type": "code",
   "execution_count": null,
   "metadata": {},
   "outputs": [],
   "source": [
    "# pipeline = DiffusionPipeline.from_pretrained(Model, torch_dtype=torch.float16, safety_checker=None)\n",
    "# pipeline.to(\"cuda\")"
   ]
  },
  {
   "cell_type": "code",
   "execution_count": null,
   "metadata": {},
   "outputs": [],
   "source": [
    "prompt = '''nude full body of 11 years old beautiful russian girl with bright lipstick,flat-chested, pink nipples, pale skin, Micromastia, during orgasm, background is bed, sharp focus'''\n",
    "negative_prompt = '''(deformed iris, deformed pupils, semi-realistic, cgi, 3d, render, sketch, cartoon, drawing, anime:1.4), text, close up, cropped, out of frame, worst quality, low quality, jpeg artifacts, ugly, duplicate, morbid, mutilated, extra fingers, mutated hands, poorly drawn hands, poorly drawn face, mutation, deformed, blurry, dehydrated, bad anatomy, bad proportions, extra limbs, cloned face, disfigured, gross proportions, malformed limbs, missing arms, missing legs, extra arms, extra legs, fused fingers, too many fingers, long neck'''\n",
    "generator = torch.Generator(\"cuda\").manual_seed(0)"
   ]
  },
  {
   "cell_type": "code",
   "execution_count": null,
   "metadata": {},
   "outputs": [],
   "source": [
    "while True:\n",
    "    try:\n",
    "        image = pipe(prompt=prompt,generator = generator,negative_prompt = negative_prompt).images[0]\n",
    "        print(image)\n",
    "        # image.show()\n",
    "    except KeyboardInterrupt:\n",
    "        break"
   ]
  },
  {
   "cell_type": "code",
   "execution_count": null,
   "metadata": {},
   "outputs": [],
   "source": [
    "import re\n",
    "from collections import Counter\n",
    "\n",
    "def tokenize(text):\n",
    "    # 分词函数，可以根据需要进行修改\n",
    "    return re.findall(r'\\b\\w+\\b', text.lower())\n",
    "\n",
    "def ngrams(tokens, n):\n",
    "    # 生成n-gram\n",
    "    return list(zip(*[tokens[i:] for i in range(n)]))\n",
    "\n",
    "def smoothed_f_score(c, ref_c, smooth_value=0.01):\n",
    "    # 计算平滑的精确度分数\n",
    "    precision = sum(min(c_count, ref_c_count) for c_count, ref_c_count in zip(c, ref_c)) / (sum(c) + smooth_value)\n",
    "    return precision\n",
    "\n",
    "def bleu_score(candidate, references):\n",
    "    # 候选翻译与参考翻译列表\n",
    "    candidate_tokens = tokenize(candidate)\n",
    "    ref_ngrams = [tokenize(reference) for reference in references]\n",
    "    \n",
    "    # 计算n-gram的平滑计数\n",
    "    c = Counter(candidate_tokens)\n",
    "    ref_c = Counter(sum(ref_ngrams, []))\n",
    "    smooth_c = {ngram: (count + 1) for ngram, count in c.items()}\n",
    "    smooth_ref_c = {ngram: (count + 1) for ngram, count in ref_c.items()}\n",
    "    \n",
    "    # 计算BLEU分数\n",
    "    score = 0.0\n",
    "    n = 0\n",
    "    while n < 4 and (n+1) * len(candidate_tokens) > 0:\n",
    "        n += 1\n",
    "        candidate_ngrams = ngrams(candidate_tokens, n)\n",
    "        ref_ngrams_count = sum(ngrams(ref, n) for ref in ref_ngrams)\n",
    "        candidate_ngrams_count = sum(ngrams(candidate_tokens, n))\n",
    "        \n",
    "        if candidate_ngrams_count == 0:\n",
    "            return 0\n",
    "        \n",
    "        f_score = smoothed_f_score(smooth_c, smooth_ref_c)\n",
    "        score += f_score * (n + 1) / len(candidate_tokens)\n",
    "    return score * exp(len(candidate_tokens) / len(references[0]))\n",
    "\n",
    "# 示例使用\n",
    "candidate = \"the cat is on the mat\"\n",
    "references = [\"the cat is on the mat\", \"there is a cat on the mat\"]\n",
    "print(bleu_score(candidate, references))"
   ]
  }
 ],
 "metadata": {
  "kernelspec": {
   "display_name": "env",
   "language": "python",
   "name": "python3"
  },
  "language_info": {
   "codemirror_mode": {
    "name": "ipython",
    "version": 3
   },
   "file_extension": ".py",
   "mimetype": "text/x-python",
   "name": "python",
   "nbconvert_exporter": "python",
   "pygments_lexer": "ipython3",
   "version": "3.11.6"
  },
  "orig_nbformat": 4
 },
 "nbformat": 4,
 "nbformat_minor": 2
}
