{
 "cells": [
  {
   "cell_type": "code",
   "execution_count": 1,
   "metadata": {},
   "outputs": [],
   "source": [
    "import os\n",
    "import platform\n",
    "\n",
    "# Get the system information\n",
    "system = platform.system()\n",
    "node = platform.node()"
   ]
  },
  {
   "cell_type": "code",
   "execution_count": 2,
   "metadata": {},
   "outputs": [],
   "source": [
    "import torch\n",
    "\n",
    "from PIL import Image\n",
    "from io import BytesIO"
   ]
  },
  {
   "cell_type": "code",
   "execution_count": 3,
   "metadata": {},
   "outputs": [
    {
     "data": {
      "text/plain": [
       "('Linux',\n",
       " '/media/ubuntu/7ACA674ACA67022D/huggingface/',\n",
       " 'http://127.0.0.1:7890')"
      ]
     },
     "execution_count": 3,
     "metadata": {},
     "output_type": "execute_result"
    }
   ],
   "source": [
    "if 'ubuntu' in node:\n",
    "    os.environ['HF_HOME'] = '/media/ubuntu/7ACA674ACA67022D/huggingface/'\n",
    "    os.environ['http_proxy'] = 'http://127.0.0.1:7890'\n",
    "    os.environ['https_proxy'] = 'http://127.0.0.1:7890'\n",
    "    os.environ[\"DISABLE_FLASH_ATTENTION\"] = \"1\"\n",
    "# if system == \"Linux\":\n",
    "#     os.environ['HF_HOME'] = '/mnt/bn/pdplq/mlx/users/huangyangkun/huggingface/hub'\n",
    "#     os.environ['http_proxy'] = 'http://sys-proxy-rd-relay.byted.org:8118'\n",
    "#     os.environ['https_proxy'] = 'http://sys-proxy-rd-relay.byted.org:8118'\n",
    "# if system == \"Darwin\":\n",
    "#     os.environ['HF_HOME'] = '/Users/bytedance/Desktop/huggingface'\n",
    "#     # os.environ['http_proxy'] = 'http://http://127.0.0.1:7890'\n",
    "#     # os.environ['https_proxy'] = 'http://http://127.0.0.1:7890'\n",
    "\n",
    "system, os.environ['HF_HOME'],os.environ['https_proxy']"
   ]
  },
  {
   "cell_type": "code",
   "execution_count": 4,
   "metadata": {},
   "outputs": [],
   "source": [
    "from diffusers import StableDiffusionPipeline, StableDiffusionImg2ImgPipeline"
   ]
  },
  {
   "cell_type": "code",
   "execution_count": 5,
   "metadata": {},
   "outputs": [],
   "source": [
    "\n",
    "# model_name = \"SG161222/Realistic_Vision_V5.1_noVAE\"\n",
    "model_name = \"SG161222/Realistic_Vision_V2.0\"\n",
    "\n",
    "inpaint_model_name = \"\"\n",
    "ready = False\n",
    "tokenizer = None\n",
    "pipeline = None\n",
    "img2img = None\n",
    "inpaint = None\n",
    "settings = { }\n",
    "save_directory = \"AI-Gen\"\n",
    "save_settings = True\n",
    "image_id = 0\n",
    "current_mode = \"\"\n",
    "server_url = \"\"\n",
    "last_generated_image = None\n",
    "image_size = (512, 512)\n",
    "current_seed = 0\n",
    "default_pipe_scheduler = None\n",
    "default_inpaint_scheduler = None\n",
    "\n",
    "\n",
    "generator = torch.Generator(\"cuda\").manual_seed(current_seed)\n"
   ]
  },
  {
   "cell_type": "code",
   "execution_count": 51,
   "metadata": {},
   "outputs": [
    {
     "data": {
      "application/vnd.jupyter.widget-view+json": {
       "model_id": "fab642a2d3e947fbadc33703b4ae03e9",
       "version_major": 2,
       "version_minor": 0
      },
      "text/plain": [
       "Loading pipeline components...:   0%|          | 0/6 [00:00<?, ?it/s]"
      ]
     },
     "metadata": {},
     "output_type": "display_data"
    },
    {
     "name": "stderr",
     "output_type": "stream",
     "text": [
      "An error occurred while trying to fetch /media/ubuntu/7ACA674ACA67022D/huggingface/hub/models--SG161222--Realistic_Vision_V2.0/snapshots/aaa388343c7f35f6416eea9d29574a4d1ad59817/unet: Error no file named diffusion_pytorch_model.safetensors found in directory /media/ubuntu/7ACA674ACA67022D/huggingface/hub/models--SG161222--Realistic_Vision_V2.0/snapshots/aaa388343c7f35f6416eea9d29574a4d1ad59817/unet.\n",
      "Defaulting to unsafe serialization. Pass `allow_pickle=False` to raise an error instead.\n",
      "An error occurred while trying to fetch /media/ubuntu/7ACA674ACA67022D/huggingface/hub/models--SG161222--Realistic_Vision_V2.0/snapshots/aaa388343c7f35f6416eea9d29574a4d1ad59817/vae: Error no file named diffusion_pytorch_model.safetensors found in directory /media/ubuntu/7ACA674ACA67022D/huggingface/hub/models--SG161222--Realistic_Vision_V2.0/snapshots/aaa388343c7f35f6416eea9d29574a4d1ad59817/vae.\n",
      "Defaulting to unsafe serialization. Pass `allow_pickle=False` to raise an error instead.\n",
      "/home/ubuntu/Desktop/env/lib/python3.12/site-packages/transformers/tokenization_utils_base.py:1601: FutureWarning: `clean_up_tokenization_spaces` was not set. It will be set to `True` by default. This behavior will be depracted in transformers v4.45, and will be then set to `False` by default. For more details check this issue: https://github.com/huggingface/transformers/issues/31884\n",
      "  warnings.warn(\n",
      "You have disabled the safety checker for <class 'diffusers.pipelines.stable_diffusion.pipeline_stable_diffusion.StableDiffusionPipeline'> by passing `safety_checker=None`. Ensure that you abide to the conditions of the Stable Diffusion license and do not expose unfiltered results in services or applications open to the public. Both the diffusers team and Hugging Face strongly recommend to keep the safety filter enabled in all public facing circumstances, disabling it only for use-cases that involve analyzing network behavior or auditing its results. For more information, please have a look at https://github.com/huggingface/diffusers/pull/254 .\n"
     ]
    }
   ],
   "source": [
    "pipeline = StableDiffusionPipeline.from_pretrained(model_name, safety_checker=None).to('cuda')"
   ]
  },
  {
   "cell_type": "code",
   "execution_count": 52,
   "metadata": {},
   "outputs": [],
   "source": [
    "Seed = 0\n",
    "Width = \"512\" #@param [128, 256, 384, 448, 512, 576, 640, 704, 768, 832, 896, 960, 1024]\n",
    "Height = \"512\" #@param [128, 256, 384, 448, 512, 576, 640, 704, 768, 832, 896, 960, 1024]\n",
    "Prompt = \"nude girl\" #@param {type:\"string\"}\n",
    "NegativePrompt = \"(deformed iris, deformed pupils, semi-realistic, cgi, 3d, render, sketch, cartoon, drawing, anime:1.4), text, close up, cropped, out of frame, worst quality, low quality, jpeg artifacts, ugly, duplicate, morbid, mutilated, extra fingers, mutated hands, poorly drawn hands, poorly drawn face, mutation, deformed, blurry, dehydrated, bad anatomy, bad proportions, extra limbs, cloned face, disfigured, gross proportions, malformed limbs, missing arms, missing legs, extra arms, extra legs, fused fingers, too many fingers, long neck\" #@param {type:\"string\"}\n",
    "GuidanceScale = 13.8 #@param {type:\"slider\", min:1, max:30, step:0.1}\n",
    "Steps = 100 #@param {type:\"slider\", min:1, max:500, step:1}\n",
    "Iterations = 6 #@param {type:\"slider\", min:1, max:50, step:1}\n",
    "Scheduler = \"Default\" #@param [\"Default\", \"DPMSolverMultistepScheduler\", \"LMSDiscreteScheduler\", \"EulerDiscreteScheduler\", \"PNDMScheduler\", \"DDIMScheduler\"]\n",
    "Scale = \"2x\" #@param [\"1x\", \"2x\", \"4x\", \"8x\"]\n",
    "PostProcessor = \"GFPGAN+Real-ESRGAN\" #@param [\"Real-ESRGAN\", \"GFPGAN+Real-ESRGAN\", \"Bicubic\"]\n",
    "PostParallelism = 3 #@param {type:\"slider\", min:1, max:4, step:1}\n",
    "PostReplaceResultView = True #@param {type:\"boolean\"}\n",
    "Preview = True"
   ]
  },
  {
   "cell_type": "code",
   "execution_count": 53,
   "metadata": {},
   "outputs": [],
   "source": [
    "settings[\"Seed\"] = int(Seed)\n",
    "settings[\"Width\"] = int(Width)\n",
    "settings[\"Height\"] = int(Height)\n",
    "settings[\"Prompt\"] = Prompt\n",
    "settings[\"NegativePrompt\"] = NegativePrompt\n",
    "settings['GuidanceScale'] = float(GuidanceScale)\n",
    "settings[\"Steps\"] = Steps\n",
    "settings[\"Iterations\"] = Iterations\n",
    "settings[\"Scheduler\"] = Scheduler\n",
    "settings[\"Scale\"] = Scale\n",
    "settings[\"Upscaler\"] = PostProcessor"
   ]
  },
  {
   "cell_type": "code",
   "execution_count": 54,
   "metadata": {},
   "outputs": [
    {
     "data": {
      "application/vnd.jupyter.widget-view+json": {
       "model_id": "4f71c3b8abb744e19522d38740df2805",
       "version_major": 2,
       "version_minor": 0
      },
      "text/plain": [
       "  0%|          | 0/100 [00:00<?, ?it/s]"
      ]
     },
     "metadata": {},
     "output_type": "display_data"
    }
   ],
   "source": [
    "image = pipeline(prompt=settings['Prompt'],\n",
    "                width=settings['Width'],\n",
    "                height=settings['Height'],\n",
    "                negative_prompt=settings['NegativePrompt'],\n",
    "                guidance_scale=settings['GuidanceScale'],\n",
    "                num_inference_steps=settings['Steps'],\n",
    "                generator=generator).images[0]"
   ]
  },
  {
   "cell_type": "code",
   "execution_count": 10,
   "metadata": {},
   "outputs": [],
   "source": [
    "torch.cuda.empty_cache()"
   ]
  },
  {
   "cell_type": "code",
   "execution_count": 14,
   "metadata": {},
   "outputs": [],
   "source": [
    "Prompt = \"nude\" #@param {type:\"string\"}\n",
    "NegativePrompt = \"wear clothes\" #@param {type:\"string\"}\n",
    "Strength = 0.75 #@param {type:\"slider\", min:0, max:1, step:0.01}\n",
    "GuidanceScale = 20 #@param {type:\"slider\", min:0, max:30, step:0.1}\n",
    "Steps = 100 #@param {type:\"slider\", min:1, max:500, step:1}\n",
    "Iterations = 6 #@param {type:\"slider\", min:1, max:50, step:1}\n",
    "Scheduler = \"Default\" #@param [\"Default\", \"DPMSolverMultistepScheduler\", \"LMSDiscreteScheduler\", \"EulerDiscreteScheduler\", \"PNDMScheduler\", \"DDIMScheduler\"]\n",
    "Scale = \"2x\" #@param [\"1x\", \"2x\", \"4x\", \"8x\"]\n",
    "PostProcessor = \"Real-ESRGAN\" #@param [\"Real-ESRGAN\", \"GFPGAN+Real-ESRGAN\", \"Bicubic\"]\n",
    "PostParallelism = 2 #@param {type:\"slider\", min:1, max:4, step:1}\n",
    "PostReplaceResultView = False #@param {type:\"boolean\"}\n",
    "Preview = True #@param {type:\"boolean\"}\n",
    "\n",
    "settings[\"Seed\"] = int(Seed)\n",
    "settings[\"Width\"] = int(Width)\n",
    "settings[\"Height\"] = int(Height)\n",
    "settings[\"Prompt\"] = Prompt\n",
    "settings[\"NegativePrompt\"] = NegativePrompt\n",
    "settings['GuidanceScale'] = float(GuidanceScale)\n",
    "settings[\"Strength\"] = Strength\n",
    "# settings[\"InitialImageURL\"] = InitialImageURL\n",
    "settings[\"Steps\"] = Steps\n",
    "settings[\"Iterations\"] = Iterations\n",
    "settings[\"Scheduler\"] = Scheduler\n",
    "settings[\"Scale\"] = Scale\n",
    "settings[\"Upscaler\"] = PostProcessor\n",
    "# settings['UseLastOutputAsInitialImage'] = UseLastImageOutputAsInitialImage\n"
   ]
  },
  {
   "cell_type": "code",
   "execution_count": 31,
   "metadata": {},
   "outputs": [],
   "source": [
    "params = pipeline.components\n",
    "params['safety_checker'] = None"
   ]
  },
  {
   "cell_type": "code",
   "execution_count": 32,
   "metadata": {},
   "outputs": [
    {
     "name": "stderr",
     "output_type": "stream",
     "text": [
      "You have disabled the safety checker for <class 'diffusers.pipelines.stable_diffusion.pipeline_stable_diffusion_img2img.StableDiffusionImg2ImgPipeline'> by passing `safety_checker=None`. Ensure that you abide to the conditions of the Stable Diffusion license and do not expose unfiltered results in services or applications open to the public. Both the diffusers team and Hugging Face strongly recommend to keep the safety filter enabled in all public facing circumstances, disabling it only for use-cases that involve analyzing network behavior or auditing its results. For more information, please have a look at https://github.com/huggingface/diffusers/pull/254 .\n"
     ]
    }
   ],
   "source": [
    "img2img = StableDiffusionImg2ImgPipeline(**params)"
   ]
  },
  {
   "cell_type": "code",
   "execution_count": 33,
   "metadata": {},
   "outputs": [],
   "source": [
    "init_image = Image.open('/home/ubuntu/Desktop/WeiXin/1.png').convert('RGB')"
   ]
  },
  {
   "cell_type": "code",
   "execution_count": 46,
   "metadata": {},
   "outputs": [
    {
     "data": {
      "application/vnd.jupyter.widget-view+json": {
       "model_id": "f4cb95a5ade14dcab539a4820c44a11b",
       "version_major": 2,
       "version_minor": 0
      },
      "text/plain": [
       "  0%|          | 0/75 [00:00<?, ?it/s]"
      ]
     },
     "metadata": {},
     "output_type": "display_data"
    }
   ],
   "source": [
    "image = img2img(\n",
    "    prompt=settings['Prompt'],\n",
    "    image=init_image,\n",
    "    width=settings['Width'],\n",
    "    height=settings['Height'],\n",
    "    negative_prompt=settings['NegativePrompt'],\n",
    "    strength=settings['Strength'],\n",
    "    guidance_scale=settings['GuidanceScale'],\n",
    "    num_inference_steps=settings['Steps'],\n",
    "    generator=generator)"
   ]
  }
 ],
 "metadata": {
  "fileId": "368ab742-1c80-4121-9633-886f814b51d0",
  "filePath": "/mnt/bn/pdplq/mlx/users/huangyangkun/repo/12367/void-diffusion/ipynb/diffusion.ipynb",
  "kernelspec": {
   "display_name": "env",
   "language": "python",
   "name": "python3"
  },
  "language_info": {
   "codemirror_mode": {
    "name": "ipython",
    "version": 3
   },
   "file_extension": ".py",
   "mimetype": "text/x-python",
   "name": "python",
   "nbconvert_exporter": "python",
   "pygments_lexer": "ipython3",
   "version": "3.12.3"
  }
 },
 "nbformat": 4,
 "nbformat_minor": 2
}
