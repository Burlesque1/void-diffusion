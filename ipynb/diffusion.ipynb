{
 "cells": [
  {
   "cell_type": "code",
   "execution_count": null,
   "metadata": {},
   "outputs": [],
   "source": [
    "import os\n",
    "import platform\n",
    "\n",
    "# Get the system information\n",
    "system = platform.system()"
   ]
  },
  {
   "cell_type": "code",
   "execution_count": 1,
   "metadata": {},
   "outputs": [
    {
     "name": "stdout",
     "output_type": "stream",
     "text": [
      "Wed Mar 26 21:18:28 2025       \n",
      "+---------------------------------------------------------------------------------------+\n",
      "| NVIDIA-SMI 535.161.08             Driver Version: 535.161.08   CUDA Version: 12.4     |\n",
      "|-----------------------------------------+----------------------+----------------------+\n",
      "| GPU  Name                 Persistence-M | Bus-Id        Disp.A | Volatile Uncorr. ECC |\n",
      "| Fan  Temp   Perf          Pwr:Usage/Cap |         Memory-Usage | GPU-Util  Compute M. |\n",
      "|                                         |                      |               MIG M. |\n",
      "|=========================================+======================+======================|\n",
      "|   0  NVIDIA A100-SXM4-80GB          On  | 00000000:4A:00.0 Off |                    0 |\n",
      "| N/A   39C    P0              96W / 400W |      3MiB / 81920MiB |      0%      Default |\n",
      "|                                         |                      |             Disabled |\n",
      "+-----------------------------------------+----------------------+----------------------+\n",
      "                                                                                         \n",
      "+---------------------------------------------------------------------------------------+\n",
      "| Processes:                                                                            |\n",
      "|  GPU   GI   CI        PID   Type   Process name                            GPU Memory |\n",
      "|        ID   ID                                                             Usage      |\n",
      "|=======================================================================================|\n",
      "|  No running processes found                                                           |\n",
      "+---------------------------------------------------------------------------------------+\n"
     ]
    }
   ],
   "source": [
    "!nvidia-smi"
   ]
  },
  {
   "cell_type": "code",
   "execution_count": null,
   "metadata": {},
   "outputs": [],
   "source": [
    "import torch\n",
    "\n",
    "torch.cuda.is_available() "
   ]
  },
  {
   "cell_type": "code",
   "execution_count": null,
   "metadata": {},
   "outputs": [],
   "source": [
    "if system == \"Linux\":\n",
    "    os.environ['HF_HOME'] = '/media/ubuntu/7ACA674ACA67022D/huggingface/hub'\n",
    "    os.environ['http_proxy'] = 'http://http://127.0.0.1:7890'\n",
    "    os.environ['https_proxy'] = 'http://http://127.0.0.1:7890'\n",
    "if system == \"Linux\":\n",
    "    os.environ['HF_HOME'] = '/mnt/bn/pdplq/mlx/users/huangyangkun/huggingface/hub'\n",
    "    os.environ['http_proxy'] = 'http://sys-proxy-rd-relay.byted.org:8118'\n",
    "    os.environ['https_proxy'] = 'http://sys-proxy-rd-relay.byted.org:8118'\n",
    "if system == \"Darwin\":\n",
    "    os.environ['HF_HOME'] = '/Users/bytedance/Desktop/huggingface'\n",
    "    # os.environ['http_proxy'] = 'http://http://127.0.0.1:7890'\n",
    "    # os.environ['https_proxy'] = 'http://http://127.0.0.1:7890'\n",
    "\n",
    "system, os.environ['HF_HOME'] "
   ]
  },
  {
   "cell_type": "code",
   "execution_count": null,
   "metadata": {},
   "outputs": [],
   "source": [
    "os.environ['http_proxy']"
   ]
  },
  {
   "cell_type": "code",
   "execution_count": null,
   "metadata": {},
   "outputs": [],
   "source": [
    "from diffusers import StableDiffusionPipeline"
   ]
  },
  {
   "cell_type": "code",
   "execution_count": null,
   "metadata": {},
   "outputs": [],
   "source": [
    "\n",
    "model_name = \"SG161222/Realistic_Vision_V5.1_noVAE\""
   ]
  },
  {
   "cell_type": "code",
   "execution_count": null,
   "metadata": {},
   "outputs": [],
   "source": [
    "pipe = StableDiffusionPipeline.from_pretrained(model_name)"
   ]
  },
  {
   "cell_type": "code",
   "execution_count": 10,
   "metadata": {},
   "outputs": [],
   "source": [
    "Prompt = \"RAW photo, a close up portrait photo of 26 y.o woman in wastelander clothes, long haircut, pale skin, slim body, background is city ruins, (high detailed skin:1.2), 8k uhd, dslr, soft lighting, high quality, film grain, Fujifilm XT3\""
   ]
  },
  {
   "cell_type": "code",
   "execution_count": null,
   "metadata": {},
   "outputs": [],
   "source": [
    "pipe(prompt=Prompt)"
   ]
  }
 ],
 "metadata": {
  "fileId": "368ab742-1c80-4121-9633-886f814b51d0",
  "filePath": "/mnt/bn/pdplq/mlx/users/huangyangkun/repo/12367/void-diffusion/ipynb/diffusion.ipynb",
  "kernelspec": {
   "display_name": "2865403",
   "language": "",
   "name": "2865403"
  },
  "language_info": {
   "codemirror_mode": {
    "name": "ipython",
    "version": 3
   },
   "file_extension": ".py",
   "mimetype": "text/x-python",
   "name": "python",
   "nbconvert_exporter": "python",
   "pygments_lexer": "ipython3",
   "version": "3.11.2"
  }
 },
 "nbformat": 4,
 "nbformat_minor": 2
}
