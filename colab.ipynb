{
 "cells": [
  {
   "cell_type": "code",
   "execution_count": null,
   "metadata": {},
   "outputs": [
    {
     "ename": "",
     "evalue": "",
     "output_type": "error",
     "traceback": [
      "\u001b[1;31mRunning cells with '/bin/python3' requires the ipykernel package.\n",
      "\u001b[1;31mRun the following command to install 'ipykernel' into the Python environment. \n",
      "\u001b[1;31mCommand: '/bin/python3 -m pip install ipykernel -U --user --force-reinstall'"
     ]
    }
   ],
   "source": [
    "import torch\n",
    "torch.cuda.is_available()"
   ]
  },
  {
   "cell_type": "code",
   "execution_count": 2,
   "metadata": {},
   "outputs": [
    {
     "data": {
      "text/plain": [
       "'Radeon RX 7900 XTX'"
      ]
     },
     "execution_count": 2,
     "metadata": {},
     "output_type": "execute_result"
    }
   ],
   "source": [
    "torch.cuda.get_device_properties(0).name"
   ]
  },
  {
   "cell_type": "code",
   "execution_count": 3,
   "metadata": {},
   "outputs": [],
   "source": [
    "import os\n",
    "# os.environ\n",
    "os.environ['HUGGINGFACE_HUB_CACHE'] = \"/media/ubuntu/7ACA674ACA67022D/Model\"\n",
    "os.environ['HUGGINGFACE_HUB_CACHE'] = \"/media/ubuntu/Model\""
   ]
  },
  {
   "cell_type": "code",
   "execution_count": 5,
   "metadata": {},
   "outputs": [],
   "source": [
    "from colabcode import ColabCode\n",
    "from legacy import colab, text2img\n",
    "import time, datetime\n",
    "from diffusers import StableDiffusionPipeline, DPMSolverMultistepScheduler,DiffusionPipeline\n"
   ]
  },
  {
   "cell_type": "code",
   "execution_count": 13,
   "metadata": {},
   "outputs": [
    {
     "data": {
      "text/html": [
       "Model <strong><span style='color: green'>SG161222/RealVisXL_V4.0</span></strong> has been selected for Text2Img and Img2Img."
      ],
      "text/plain": [
       "<IPython.core.display.HTML object>"
      ]
     },
     "metadata": {},
     "output_type": "display_data"
    },
    {
     "data": {
      "text/html": [
       "Model <strong><span style='color: green'>runwayml/stable-diffusion-inpainting</span></strong> has been selected for inpainting."
      ],
      "text/plain": [
       "<IPython.core.display.HTML object>"
      ]
     },
     "metadata": {},
     "output_type": "display_data"
    }
   ],
   "source": [
    "Model = \"SG161222/RealVisXL_V4.0\" #@param [\"runwayml/stable-diffusion-v1-5\", \"CompVis/stable-diffusion-v1-4\",\"theintuitiveye/HARDblend\", \"stabilityai/stable-diffusion-2-1\", \"SG161222/Realistic_Vision_V2.0\", \"darkstorm2150/Protogen_x3.4_Official_Release\", \"prompthero/openjourney\", \"naclbit/trinart_stable_diffusion_v2\", \"hakurei/waifu-diffusion\"] {allow-input: true}\n",
    "#@markdown <small>You can input a Huggingface model ID or path or select one from the dropdown.<br>Additionally, you can also enter the path of a `.ckpt` file.<br>Example: /content/gdrive/MyDrive/MyModels/someCheckpoint.ckpt.</small>\n",
    "#@markdown ***\n",
    "UseInpainting = True #@param {type:\"boolean\"}\n",
    "InpaintingModel = \"runwayml/stable-diffusion-inpainting\" #@param [\"runwayml/stable-diffusion-inpainting\"] {allow-input: true}\n",
    "#@markdown ***\n",
    "import importlib, os\n",
    "try:\n",
    "  from legacy import colab\n",
    "  try: colab.init(ModelName=Model, InpaintingModel=InpaintingModel if UseInpainting else None)\n",
    "  except Exception as e:\n",
    "      print(\"Error initializing model: \", end=\"\")\n",
    "      print(e)\n",
    "except: print(\"Please play the settings first.\")"
   ]
  },
  {
   "cell_type": "code",
   "execution_count": 11,
   "metadata": {},
   "outputs": [],
   "source": [
    "ShouldSaveToGoogleDrive = False\n",
    "Seed = 0\n",
    "Width = \"512\" #@param [128, 256, 384, 448, 512, 576, 640, 704, 768, 832, 896, 960, 1024]\n",
    "Height = \"512\" #@param [128, 256, 384, 448, 512, 576, 640, 704, 768, 832, 896, 960, 1024]\n",
    "GuidanceScale = 13.8 #@param {type:\"slider\", min:1, max:30, step:0.1}\n",
    "Steps = 250 #@param {type:\"slider\", min:1, max:500, step:1}\n",
    "Iterations = 1 #@param {type:\"slider\", min:1, max:50, step:1}\n",
    "Scheduler = \"Default\" #@param [\"Default\", \"DPMSolverMultistepScheduler\", \"LMSDiscreteScheduler\", \"EulerDiscreteScheduler\", \"PNDMScheduler\", \"DDIMScheduler\"]\n",
    "Scale = \"1x\" #@param [\"1x\", \"2x\", \"4x\", \"8x\"]\n",
    "PostProcessor = \"GFPGAN+Real-ESRGAN\" #@param [\"Real-ESRGAN\", \"GFPGAN+Real-ESRGAN\", \"Bicubic\"]\n",
    "PostParallelism = 2 #@param {type:\"slider\", min:1, max:4, step:1}\n",
    "PostReplaceResultView = True #@param {type:\"boolean\"}\n",
    "Preview = False #@param {type:\"boolean\"}\n",
    "colab.settings[\"Seed\"] = int(Seed)\n",
    "colab.settings[\"Width\"] = int(Width)\n",
    "colab.settings[\"Height\"] = int(Height)\n",
    "colab.settings['GuidanceScale'] = float(GuidanceScale)\n",
    "colab.settings[\"Steps\"] = Steps\n",
    "colab.settings[\"Iterations\"] = Iterations\n",
    "colab.settings[\"Scheduler\"] = Scheduler\n",
    "colab.settings[\"Scale\"] = Scale\n",
    "colab.settings[\"Upscaler\"] = PostProcessor"
   ]
  },
  {
   "cell_type": "code",
   "execution_count": 14,
   "metadata": {},
   "outputs": [
    {
     "name": "stderr",
     "output_type": "stream",
     "text": [
      "Exception in thread Thread-11 (media_server):\n",
      "Traceback (most recent call last):\n",
      "  File \"/usr/lib/python3.11/threading.py\", line 1045, in _bootstrap_inner\n"
     ]
    },
    {
     "data": {
      "text/html": [
       "<label>Iterations: 0/1</label>"
      ],
      "text/plain": [
       "<IPython.core.display.HTML object>"
      ]
     },
     "metadata": {},
     "output_type": "display_data"
    },
    {
     "data": {
      "text/html": [
       "<label>Seed: <code>9849638263985212910</code><button alt=\"Copy seed\" style=\"width: 16px; padding: 0; margin: 0;\" class=\"copy-button\" onclick=\"copyToClipboard('9849638263985212910')\"><svg viewBox=\"0 0 24 24\" fill=\"none\" xmlns=\"http://www.w3.org/2000/svg\"><g id=\"SVGRepo_bgCarrier\" stroke-width=\"0\"></g><g id=\"SVGRepo_tracerCarrier\" stroke-linecap=\"round\" stroke-linejoin=\"round\"></g><g id=\"SVGRepo_iconCarrier\"><path d=\"M10 8V7C10 6.05719 10 5.58579 10.2929 5.29289C10.5858 5 11.0572 5 12 5H17C17.9428 5 18.4142 5 18.7071 5.29289C19 5.58579 19 6.05719 19 7V12C19 12.9428 19 13.4142 18.7071 13.7071C18.4142 14 17.9428 14 17 14H16M7 19H12C12.9428 19 13.4142 19 13.7071 18.7071C14 18.4142 14 17.9428 14 17V12C14 11.0572 14 10.5858 13.7071 10.2929C13.4142 10 12.9428 10 12 10H7C6.05719 10 5.58579 10 5.29289 10.2929C5 10.5858 5 11.0572 5 12V17C5 17.9428 5 18.4142 5.29289 18.7071C5.58579 19 6.05719 19 7 19Z\" stroke=\"#464455\" stroke-linecap=\"round\" stroke-linejoin=\"round\"></path></g></svg></button></label>"
      ],
      "text/plain": [
       "<IPython.core.display.HTML object>"
      ]
     },
     "metadata": {},
     "output_type": "display_data"
    },
    {
     "data": {
      "text/html": [
       "<label>Generation time: 0.00s</label>"
      ],
      "text/plain": [
       "<IPython.core.display.HTML object>"
      ]
     },
     "metadata": {},
     "output_type": "display_data"
    },
    {
     "data": {
      "text/html": [
       "<label>Original: Emerging...</label>"
      ],
      "text/plain": [
       "<IPython.core.display.HTML object>"
      ]
     },
     "metadata": {},
     "output_type": "display_data"
    },
    {
     "data": {
      "text/html": [
       "<label>Saved: No</label>"
      ],
      "text/plain": [
       "<IPython.core.display.HTML object>"
      ]
     },
     "metadata": {},
     "output_type": "display_data"
    },
    {
     "data": {
      "text/html": [
       "<label>Post-processed: Waiting...</label>"
      ],
      "text/plain": [
       "<IPython.core.display.HTML object>"
      ]
     },
     "metadata": {},
     "output_type": "display_data"
    },
    {
     "data": {
      "text/html": [
       "<label>Saved: No</label>"
      ],
      "text/plain": [
       "<IPython.core.display.HTML object>"
      ]
     },
     "metadata": {},
     "output_type": "display_data"
    },
    {
     "data": {
      "text/plain": [
       "'...'"
      ]
     },
     "metadata": {},
     "output_type": "display_data"
    },
    {
     "data": {
      "application/javascript": "\n        function copyToClipboard(text) {\n            var dummy = document.createElement(\"input\");\n            document.body.appendChild(dummy);\n            dummy.setAttribute('value', text);\n            dummy.select();\n            document.execCommand('copy');\n            document.body.removeChild(dummy);\n        }\n    ",
      "text/plain": [
       "<IPython.core.display.Javascript object>"
      ]
     },
     "metadata": {},
     "output_type": "display_data"
    },
    {
     "data": {
      "application/vnd.jupyter.widget-view+json": {
       "model_id": "87438b7e4d734d05bf4c01be77d29789",
       "version_major": 2,
       "version_minor": 0
      },
      "text/plain": [
       "  0%|          | 0/250 [00:00<?, ?it/s]"
      ]
     },
     "metadata": {},
     "output_type": "display_data"
    },
    {
     "name": "stderr",
     "output_type": "stream",
     "text": [
      "    self.run()\n",
      "  File \"/media/ubuntu/void-diffusion/env/lib/python3.11/site-packages/ipykernel/ipkernel.py\", line 761, in run_closure\n",
      "    _threading_Thread_run(self)\n",
      "  File \"/usr/lib/python3.11/threading.py\", line 982, in run\n",
      "    self._target(*self._args, **self._kwargs)\n",
      "  File \"/media/ubuntu/void-diffusion/legacy/colab.py\", line 36, in media_server\n",
      "    from google.colab.output import eval_js\n",
      "ModuleNotFoundError: No module named 'google'\n"
     ]
    },
    {
     "name": "stdout",
     "output_type": "stream",
     "text": [
      "Error trying to generate image Traceback (most recent call last):\n",
      "  File \"/media/ubuntu/void-diffusion/legacy/text2img.py\", line 27, in process\n",
      "    image = colab.pipeline(\n",
      "            ^^^^^^^^^^^^^^^\n",
      "  File \"/media/ubuntu/void-diffusion/env/lib/python3.11/site-packages/torch/utils/_contextlib.py\", line 115, in decorate_context\n",
      "    return func(*args, **kwargs)\n",
      "           ^^^^^^^^^^^^^^^^^^^^^\n",
      "  File \"/media/ubuntu/void-diffusion/env/lib/python3.11/site-packages/diffusers/pipelines/stable_diffusion/pipeline_stable_diffusion.py\", line 1027, in __call__\n",
      "    noise_pred = self.unet(\n",
      "                 ^^^^^^^^^^\n",
      "  File \"/media/ubuntu/void-diffusion/env/lib/python3.11/site-packages/torch/nn/modules/module.py\", line 1529, in _wrapped_call_impl\n",
      "    return self._call_impl(*args, **kwargs)\n",
      "           ^^^^^^^^^^^^^^^^^^^^^^^^^^^^^^^^\n",
      "  File \"/media/ubuntu/void-diffusion/env/lib/python3.11/site-packages/torch/nn/modules/module.py\", line 1538, in _call_impl\n",
      "    return forward_call(*args, **kwargs)\n",
      "           ^^^^^^^^^^^^^^^^^^^^^^^^^^^^^\n",
      "  File \"/media/ubuntu/void-diffusion/env/lib/python3.11/site-packages/diffusers/models/unets/unet_2d_condition.py\", line 1013, in forward\n",
      "    if \"text_embeds\" not in added_cond_kwargs:\n",
      "       ^^^^^^^^^^^^^^^^^^^^^^^^^^^^^^^^^^^^^^\n",
      "TypeError: argument of type 'NoneType' is not iterable\n",
      "\n"
     ]
    }
   ],
   "source": [
    "Prompt = '''nude full body of 11 years old beautiful russian girl with bright lipstick,flat-chested, pink nipples, pale skin, Micromastia, during orgasm, background is bed, sharp focus\n",
    "'''\n",
    "\n",
    "NegativePrompt = '''deformed iris, deformed pupils, semi-realistic, cgi, 3d, render, sketch, cartoon, drawing, anime:1.4), text, close up, cropped, out of frame, worst quality, low quality, jpeg artifacts, ugly, duplicate, morbid, mutilated, extra fingers, mutated hands, poorly drawn hands, poorly drawn face, mutation, deformed, blurry, dehydrated, bad anatomy, bad proportions, extra limbs, cloned face, disfigured, gross proportions, malformed limbs, missing arms, missing legs, extra arms, extra legs, fused fingers, too many fingers, long neck\n",
    "'''\n",
    "colab.settings[\"Prompt\"] = Prompt\n",
    "colab.settings[\"NegativePrompt\"] = NegativePrompt\n",
    "image = text2img.process(ShouldSave=ShouldSaveToGoogleDrive, maxNumJobs=PostParallelism,\n",
    "                        ShouldPreview=Preview, ReplaceResult=PostReplaceResultView)\n",
    "# print(colab.current_seed, colab.current_mode)\n",
    "# image.show()"
   ]
  }
 ],
 "metadata": {
  "kernelspec": {
   "display_name": "env",
   "language": "python",
   "name": "python3"
  },
  "language_info": {
   "codemirror_mode": {
    "name": "ipython",
    "version": 3
   },
   "file_extension": ".py",
   "mimetype": "text/x-python",
   "name": "python",
   "nbconvert_exporter": "python",
   "pygments_lexer": "ipython3",
   "version": "3.11.6"
  },
  "orig_nbformat": 4
 },
 "nbformat": 4,
 "nbformat_minor": 2
}
